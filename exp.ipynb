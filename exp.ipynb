{
 "cells": [
  {
   "cell_type": "code",
   "execution_count": 57,
   "id": "aaa4ab0c",
   "metadata": {},
   "outputs": [],
   "source": [
    "from dotenv import load_dotenv\n",
    "from pydantic import BaseModel\n",
    "from langchain_ai21 import ChatAI21\n",
    "from langchain_core.output_parsers import PydanticOutputParser\n",
    "from langchain_core.prompts import ChatPromptTemplate\n",
    "from langchain.agents import create_tool_calling_agent, AgentExecutor\n",
    "from tools import search_tool\n"
   ]
  },
  {
   "cell_type": "code",
   "execution_count": 58,
   "id": "dd928e57",
   "metadata": {},
   "outputs": [
    {
     "data": {
      "text/plain": [
       "True"
      ]
     },
     "execution_count": 58,
     "metadata": {},
     "output_type": "execute_result"
    }
   ],
   "source": [
    "load_dotenv()"
   ]
  },
  {
   "cell_type": "code",
   "execution_count": 59,
   "id": "13864545",
   "metadata": {},
   "outputs": [],
   "source": [
    "llm = ChatAI21(\n",
    "    model=\"jamba-large\"\n",
    ")"
   ]
  },
  {
   "cell_type": "code",
   "execution_count": 60,
   "id": "fdb20d0b",
   "metadata": {},
   "outputs": [],
   "source": [
    "response = llm.invoke(\"what is the capital of France?\")"
   ]
  },
  {
   "cell_type": "code",
   "execution_count": 61,
   "id": "58a59dc9",
   "metadata": {},
   "outputs": [
    {
     "name": "stdout",
     "output_type": "stream",
     "text": [
      "content='The capital of France is **Paris**.' additional_kwargs={} response_metadata={} id='run-de120314-4ef0-4805-8ace-c4a84e9569e1-0'\n"
     ]
    }
   ],
   "source": [
    "print(response)"
   ]
  },
  {
   "cell_type": "code",
   "execution_count": 62,
   "id": "295ba04e",
   "metadata": {},
   "outputs": [],
   "source": [
    "class ResearchResponse(BaseModel):\n",
    "    topic: str\n",
    "    summary: str\n",
    "    sources: list[str]\n",
    "    tools_used: list[str]"
   ]
  },
  {
   "cell_type": "code",
   "execution_count": 63,
   "id": "7b5ff253",
   "metadata": {},
   "outputs": [],
   "source": [
    "parser = PydanticOutputParser(pydantic_object=ResearchResponse)"
   ]
  },
  {
   "cell_type": "code",
   "execution_count": 81,
   "id": "36d20b5f",
   "metadata": {},
   "outputs": [],
   "source": [
    "prompt = ChatPromptTemplate.from_messages(\n",
    "    [\n",
    "        (\"system\", \n",
    "         \"\"\"\n",
    "         You are a research assistant that will help generate a research paper\n",
    "         Answer the query and use necessary tools\n",
    "         Wrap the output in this format and provide no other text\\n{format_instructions}\n",
    "         \"\"\",\n",
    "         ),\n",
    "        (\"placeholder\",\"{chat_history}\"),\n",
    "        (\"human\",\"{query}\"),\n",
    "        (\"placeholder\",\"{agent_scratchpad}\"),\n",
    "    ]\n",
    ").partial(format_instructions=parser.get_format_instructions())"
   ]
  },
  {
   "cell_type": "code",
   "execution_count": 82,
   "id": "950d118f",
   "metadata": {},
   "outputs": [],
   "source": [
    "tools = [search_tool]"
   ]
  },
  {
   "cell_type": "code",
   "execution_count": 83,
   "id": "cc2526b3",
   "metadata": {},
   "outputs": [],
   "source": [
    "agent = create_tool_calling_agent(\n",
    "    llm=llm,\n",
    "    prompt=prompt,\n",
    "    tools=tools,\n",
    ")"
   ]
  },
  {
   "cell_type": "code",
   "execution_count": 84,
   "id": "53b85d75",
   "metadata": {},
   "outputs": [],
   "source": [
    "agent_executor = AgentExecutor(\n",
    "    agent=agent,\n",
    "    tools=tools,\n",
    "    verbose=True,\n",
    ")"
   ]
  },
  {
   "cell_type": "code",
   "execution_count": 85,
   "id": "20bf93e0",
   "metadata": {},
   "outputs": [
    {
     "name": "stdout",
     "output_type": "stream",
     "text": [
      "\n",
      "\n",
      "\u001b[1m> Entering new AgentExecutor chain...\u001b[0m\n",
      "\u001b[32;1m\u001b[1;3m\u001b[0m\n",
      "\n",
      "\u001b[1m> Finished chain.\u001b[0m\n",
      "Raw response: {'query': 'How did france achieved independence?', 'chat_history': [], 'output': ''}\n",
      "No output received from agent\n"
     ]
    }
   ],
   "source": [
    "try:\n",
    "    raw_response = agent_executor.invoke({\n",
    "        \"query\": \"How did france achieved independence?\",\n",
    "        \"chat_history\": []\n",
    "    })\n",
    "    print(\"Raw response:\", raw_response)\n",
    "    \n",
    "    if raw_response.get(\"output\"):\n",
    "        structured_response = parser.parse(raw_response[\"output\"])\n",
    "        print(\"Structured response:\", structured_response)\n",
    "    else:\n",
    "        print(\"No output received from agent\")\n",
    "except Exception as e:\n",
    "    print(f\"Error occurred: {str(e)}\")"
   ]
  },
  {
   "cell_type": "code",
   "execution_count": 73,
   "id": "0e7e0152",
   "metadata": {},
   "outputs": [
    {
     "name": "stdout",
     "output_type": "stream",
     "text": [
      "{'query': 'How did france achieved independence?', 'chat_history': [], 'output': ''}\n"
     ]
    }
   ],
   "source": [
    "print(raw_response)"
   ]
  },
  {
   "cell_type": "code",
   "execution_count": 52,
   "id": "e02da65f",
   "metadata": {},
   "outputs": [],
   "source": [
    "structured_response = parser.parse(raw_response.get(\"output\"))\n"
   ]
  },
  {
   "cell_type": "code",
   "execution_count": 53,
   "id": "5eef0339",
   "metadata": {},
   "outputs": [
    {
     "name": "stdout",
     "output_type": "stream",
     "text": [
      "topic='How did France achieve independence?' summary='France did not need to achieve independence as it was never colonized. Instead, it was a colonial power itself, controlling vast territories across the globe. However, France underwent significant political and social transformations, such as the French Revolution (1789-1799), which led to the establishment of a republic and the end of monarchical rule.' sources=['https://www.history.com/topics/france/french-revolution', 'https://www.britannica.com/place/France/The-French-Revolution'] tools_used=['Wikipedia', 'Google Scholar']\n"
     ]
    }
   ],
   "source": [
    "print(structured_response)"
   ]
  },
  {
   "cell_type": "code",
   "execution_count": 56,
   "id": "e1989fb1",
   "metadata": {},
   "outputs": [],
   "source": [
    "try:\n",
    "    structured_response = parser.parse(raw_response.get(\"output\"))\n",
    "except Exception as e:\n",
    "    print(f\"Error parsing response: {e}\")\n",
    "    "
   ]
  },
  {
   "cell_type": "code",
   "execution_count": null,
   "id": "dd71ccba",
   "metadata": {},
   "outputs": [],
   "source": []
  }
 ],
 "metadata": {
  "kernelspec": {
   "display_name": "Python 3",
   "language": "python",
   "name": "python3"
  },
  "language_info": {
   "codemirror_mode": {
    "name": "ipython",
    "version": 3
   },
   "file_extension": ".py",
   "mimetype": "text/x-python",
   "name": "python",
   "nbconvert_exporter": "python",
   "pygments_lexer": "ipython3",
   "version": "3.13.2"
  }
 },
 "nbformat": 4,
 "nbformat_minor": 5
}
