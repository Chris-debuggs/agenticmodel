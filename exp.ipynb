{
 "cells": [
  {
   "cell_type": "code",
   "execution_count": 17,
   "id": "aaa4ab0c",
   "metadata": {},
   "outputs": [],
   "source": [
    "from dotenv import load_dotenv\n",
    "from pydantic import BaseModel\n",
    "from langchain_ai21 import ChatAI21\n",
    "from langchain_core.output_parsers import PydanticOutputParser\n",
    "from langchain_core.prompts import ChatPromptTemplate\n",
    "from langchain.agents import create_tool_calling_agent, AgentExecutor"
   ]
  },
  {
   "cell_type": "code",
   "execution_count": 3,
   "id": "dd928e57",
   "metadata": {},
   "outputs": [
    {
     "data": {
      "text/plain": [
       "True"
      ]
     },
     "execution_count": 3,
     "metadata": {},
     "output_type": "execute_result"
    }
   ],
   "source": [
    "load_dotenv()"
   ]
  },
  {
   "cell_type": "code",
   "execution_count": 4,
   "id": "13864545",
   "metadata": {},
   "outputs": [],
   "source": [
    "llm = ChatAI21(\n",
    "    model=\"jamba-mini\"\n",
    ")"
   ]
  },
  {
   "cell_type": "code",
   "execution_count": 5,
   "id": "fdb20d0b",
   "metadata": {},
   "outputs": [],
   "source": [
    "response = llm.invoke(\"what is the capital of France?\")"
   ]
  },
  {
   "cell_type": "code",
   "execution_count": 9,
   "id": "58a59dc9",
   "metadata": {},
   "outputs": [
    {
     "name": "stdout",
     "output_type": "stream",
     "text": [
      "content='The capital of France is **Paris**.' additional_kwargs={} response_metadata={} id='run-d59a9013-0009-420d-8ddd-02c4db093cc2-0'\n"
     ]
    }
   ],
   "source": [
    "print(response)"
   ]
  },
  {
   "cell_type": "code",
   "execution_count": 10,
   "id": "295ba04e",
   "metadata": {},
   "outputs": [],
   "source": [
    "class ResearchResponse(BaseModel):\n",
    "    topic: str\n",
    "    summary: str\n",
    "    sources: list[str]\n",
    "    tools_used: list[str]"
   ]
  },
  {
   "cell_type": "code",
   "execution_count": 12,
   "id": "7b5ff253",
   "metadata": {},
   "outputs": [],
   "source": [
    "parser = PydanticOutputParser(pydantic_object=ResearchResponse)"
   ]
  },
  {
   "cell_type": "code",
   "execution_count": 52,
   "id": "36d20b5f",
   "metadata": {},
   "outputs": [],
   "source": [
    "prompt = ChatPromptTemplate.from_messages(\n",
    "    [\n",
    "        (\"system\", \n",
    "         \"\"\"\n",
    "         You are a research assistant that will help generate a research paper\n",
    "         Answer the query and use necessary tools\n",
    "         Warp the output in this format and no premamble and other formats\\n{format_instructions}\n",
    "         \"\"\",\n",
    "         ),\n",
    "        (\"placeholder\",\"{chat_history}\"),\n",
    "        (\"human\",\"{query}\"),\n",
    "        (\"placeholder\",\"{agent_scratchpad}\"),\n",
    "    ]\n",
    ").partial(format_instructions=parser.get_format_instructions())"
   ]
  },
  {
   "cell_type": "code",
   "execution_count": 53,
   "id": "cc2526b3",
   "metadata": {},
   "outputs": [],
   "source": [
    "agent = create_tool_calling_agent(\n",
    "    llm=llm,\n",
    "    prompt=prompt,\n",
    "    tools=[],\n",
    ")"
   ]
  },
  {
   "cell_type": "code",
   "execution_count": 54,
   "id": "53b85d75",
   "metadata": {},
   "outputs": [],
   "source": [
    "agent_executor = AgentExecutor(\n",
    "    agent=agent,\n",
    "    tools=[],\n",
    "    verbose=True,\n",
    ")"
   ]
  },
  {
   "cell_type": "code",
   "execution_count": 55,
   "id": "20bf93e0",
   "metadata": {},
   "outputs": [
    {
     "name": "stdout",
     "output_type": "stream",
     "text": [
      "\n",
      "\n",
      "\u001b[1m> Entering new AgentExecutor chain...\u001b[0m\n",
      "\u001b[32;1m\u001b[1;3mThe capital of France is Paris.\u001b[0m\n",
      "\n",
      "\u001b[1m> Finished chain.\u001b[0m\n"
     ]
    }
   ],
   "source": [
    "raw_response = agent_executor.invoke({\n",
    "    \"query\": \"What is the capital of France?\",\n",
    "})"
   ]
  },
  {
   "cell_type": "code",
   "execution_count": 56,
   "id": "0e7e0152",
   "metadata": {},
   "outputs": [
    {
     "name": "stdout",
     "output_type": "stream",
     "text": [
      "{'query': 'What is the capital of France?', 'output': 'The capital of France is Paris.'}\n"
     ]
    }
   ],
   "source": [
    "print(raw_response)"
   ]
  },
  {
   "cell_type": "code",
   "execution_count": 44,
   "id": "e02da65f",
   "metadata": {},
   "outputs": [
    {
     "ename": "AttributeError",
     "evalue": "'dict' object has no attribute 'content'",
     "output_type": "error",
     "traceback": [
      "\u001b[31m---------------------------------------------------------------------------\u001b[39m",
      "\u001b[31mAttributeError\u001b[39m                            Traceback (most recent call last)",
      "\u001b[36mCell\u001b[39m\u001b[36m \u001b[39m\u001b[32mIn[44]\u001b[39m\u001b[32m, line 1\u001b[39m\n\u001b[32m----> \u001b[39m\u001b[32m1\u001b[39m structured_response = parser.parse(\u001b[43mraw_response\u001b[49m\u001b[43m.\u001b[49m\u001b[43mcontent\u001b[49m)\n",
      "\u001b[31mAttributeError\u001b[39m: 'dict' object has no attribute 'content'"
     ]
    }
   ],
   "source": [
    "structured_response = parser.parse(raw_response.content)\n"
   ]
  },
  {
   "cell_type": "code",
   "execution_count": null,
   "id": "5eef0339",
   "metadata": {},
   "outputs": [],
   "source": []
  }
 ],
 "metadata": {
  "kernelspec": {
   "display_name": "Python 3",
   "language": "python",
   "name": "python3"
  },
  "language_info": {
   "codemirror_mode": {
    "name": "ipython",
    "version": 3
   },
   "file_extension": ".py",
   "mimetype": "text/x-python",
   "name": "python",
   "nbconvert_exporter": "python",
   "pygments_lexer": "ipython3",
   "version": "3.13.2"
  }
 },
 "nbformat": 4,
 "nbformat_minor": 5
}
